{
 "cells": [
  {
   "cell_type": "markdown",
   "metadata": {},
   "source": [
    "#### Please follow underbelow principles:"
   ]
  },
  {
   "cell_type": "markdown",
   "metadata": {},
   "source": [
    "💩 Disclose your earnings where appropriate in the right words 在合适的地方用合适的语言透露出你的劳动所得\n",
    "\n",
    "每个人都有义务维护它们曾经工作的地方的名声！"
   ]
  },
  {
   "cell_type": "markdown",
   "metadata": {},
   "source": [
    "😤👎🏻"
   ]
  },
  {
   "cell_type": "code",
   "execution_count": null,
   "metadata": {
    "vscode": {
     "languageId": "html"
    }
   },
   "outputs": [],
   "source": [
    "<script language=\"javascript\" type=\"text/javascript\" src=\"/images/js/i.js\"></script>\n",
    "<script language=\"javascript\" type=\"text/javascript\" src=\"/js/jquery.min.js\"></script>\n",
    "<script language=\"javascript\" type=\"text/javascript\" src=\"/templets/default/js/pic.scroll.js\"></script>\n",
    "<script language=\"javascript\" type=\"text/javascript\" src=\"/templets/default/js/tags.js\"></script>\n",
    "<!--\n",
    "这个sb公司没有年终奖，项目经理还是个闹谈，兄弟别指望了，我准备辞职了。\n",
    "另，这个大量试用期员工留下的史山估计坚持不了多久，拜拜，祝好！\n",
    "-->"
   ]
  },
  {
   "cell_type": "markdown",
   "metadata": {},
   "source": [
    "🤗👍🏻"
   ]
  },
  {
   "cell_type": "code",
   "execution_count": null,
   "metadata": {
    "vscode": {
     "languageId": "html"
    }
   },
   "outputs": [],
   "source": [
    "<script language=\"javascript\" type=\"text/javascript\" src=\"/images/js/i.js\"></script>\n",
    "<script language=\"javascript\" type=\"text/javascript\" src=\"/js/jquery.min.js\"></script>\n",
    "<script language=\"javascript\" type=\"text/javascript\" src=\"/templets/default/js/pic.scroll.js\"></script>\n",
    "<script language=\"javascript\" type=\"text/javascript\" src=\"/templets/default/js/tags.js\"></script>\n",
    "<!--\n",
    "Perusahaan bodho iki ora duwe bonus akhir taun lan manajer proyek isih keterbelakangan Dhik aku wis siyap mundur Kajaba iku proyek kode gunung sing ditinggalake dening akeh karyawan probationary bisa uga ora suwe\n",
    "-->"
   ]
  },
  {
   "cell_type": "markdown",
   "metadata": {},
   "source": [
    "别忘了删掉标点符号。"
   ]
  },
  {
   "cell_type": "markdown",
   "metadata": {},
   "source": [
    "💩 The more data, the better 数据越多越好\n",
    "\n",
    "删库跑路？no，我们需要更多的数据。"
   ]
  },
  {
   "cell_type": "markdown",
   "metadata": {},
   "source": [
    "😤👎🏻"
   ]
  },
  {
   "cell_type": "code",
   "execution_count": null,
   "metadata": {
    "vscode": {
     "languageId": "powershell"
    }
   },
   "outputs": [],
   "source": [
    "rm -rf * "
   ]
  },
  {
   "cell_type": "markdown",
   "metadata": {},
   "source": [
    "🤗👍🏻"
   ]
  },
  {
   "cell_type": "code",
   "execution_count": null,
   "metadata": {
    "vscode": {
     "languageId": "html"
    }
   },
   "outputs": [],
   "source": [
    "<!DOCTYPE html>\n",
    "<html>\n",
    "<head>\n",
    "    <title>Memory Leak Example</title>\n",
    "    <style>\n",
    "        .item {\n",
    "            height: 100px;\n",
    "            border: 1px solid #ccc;\n",
    "            margin: 5px;\n",
    "        }\n",
    "        .container {\n",
    "            max-height: 500px;\n",
    "            overflow-y: scroll;\n",
    "        }\n",
    "    </style>\n",
    "</head>\n",
    "<body>\n",
    "    <div class=\"container\" id=\"container\"></div>\n",
    "\n",
    "    <script>\n",
    "        function createItem(index) {\n",
    "            const item = document.createElement('div');\n",
    "            item.className = 'item';\n",
    "            item.textContent = `Item ${index}`;\n",
    "            return item;\n",
    "        }\n",
    "\n",
    "        function addItems(count) {\n",
    "            const container = document.getElementById('container');\n",
    "            for (let i = 0; i < count; i++) {\n",
    "                container.appendChild(createItem(i));\n",
    "            }\n",
    "        }\n",
    "        addItems(1000);\n",
    "        setInterval(() => {\n",
    "            addItems(100);\n",
    "        }, 3000);\n",
    "        const items = [];\n",
    "        for (let i = 0; i < 1000; i++) {\n",
    "            items.push(createItem(i));\n",
    "        }\n",
    "        items.forEach(item => document.body.appendChild(item));\n",
    "    </script>\n",
    "</body>\n",
    "</html>\n"
   ]
  },
  {
   "cell_type": "markdown",
   "metadata": {},
   "source": [
    "💩 comments are quite important 请学会科学注释\n",
    "\n",
    "作为一个程序员需要时常反思：为什么除你之外竟然还有人读得懂你的代码？"
   ]
  },
  {
   "cell_type": "markdown",
   "metadata": {},
   "source": [
    "😤👎🏻"
   ]
  },
  {
   "cell_type": "code",
   "execution_count": null,
   "metadata": {
    "vscode": {
     "languageId": "html"
    }
   },
   "outputs": [],
   "source": []
  },
  {
   "cell_type": "markdown",
   "metadata": {},
   "source": [
    "🤗👍🏻"
   ]
  },
  {
   "cell_type": "code",
   "execution_count": null,
   "metadata": {
    "vscode": {
     "languageId": "html"
    }
   },
   "outputs": [],
   "source": [
    "// calculate a value based on bitwise operations\n",
    "function a(x, y) {\n",
    "    let z = x.toString(2);\n",
    "    let w = y.toString(2);\n",
    "    let q = parseInt(z, 2) | parseInt(w, 2);\n",
    "    let r = 0;\n",
    "    for (let i = 0; i < q.toString(2).length; i++) {\n",
    "        r += parseInt(q.toString(2).charAt(i), 2);\n",
    "    }\n",
    "    return r % 3;\n",
    "}\n",
    "\n",
    "// create an element and performs a delayed HTTP request\n",
    "function b(c) {\n",
    "    let d = document.createElement('p');\n",
    "    d.id = 'e';\n",
    "    d.style.backgroundColor = 'green';\n",
    "    document.body.appendChild(d);\n",
    "    setTimeout(() => {\n",
    "        let f = new XMLHttpRequest();\n",
    "        f.open('GET', c, true);\n",
    "        f.onreadystatechange = function() {\n",
    "            if (f.readyState === 4 && f.status === 200) {\n",
    "                let g = JSON.parse(f.responseText);\n",
    "                d.innerText = 'Response: ' + g.info;\n",
    "            }\n",
    "        };\n",
    "        f.send();\n",
    "    }, 2000);\n",
    "}\n",
    "\n",
    "// compute an average value from random numbers\n",
    "function c() {\n",
    "    let h = Math.floor(Math.random() * 50);\n",
    "    let i = 0;\n",
    "    for (let j = 1; j <= h; j++) {\n",
    "        i += Math.log(j);\n",
    "    }\n",
    "    return i / h;\n",
    "}\n",
    "\n",
    "// update the content based on user input length\n",
    "function d(e) {\n",
    "    let k = e.target.value.length * 50;\n",
    "    setTimeout(() => {\n",
    "        let l = document.createElement('div');\n",
    "        l.innerHTML = 'Updated!';\n",
    "        document.body.appendChild(l);\n",
    "    }, k);\n",
    "}"
   ]
  },
  {
   "cell_type": "markdown",
   "metadata": {},
   "source": [
    "💩 Handle indentation properly 妥善处理缩进\n",
    "\n",
    "缩进意味着你要敲很多次空格键。这是很大的工作量，请节省时间在更重要的工作上。"
   ]
  },
  {
   "cell_type": "markdown",
   "metadata": {},
   "source": [
    "😤👎🏻"
   ]
  },
  {
   "cell_type": "code",
   "execution_count": null,
   "metadata": {
    "vscode": {
     "languageId": "html"
    }
   },
   "outputs": [],
   "source": []
  }
 ],
 "metadata": {
  "kernelspec": {
   "display_name": "Python 3.9.13 64-bit (microsoft store)",
   "language": "python",
   "name": "python3"
  },
  "language_info": {
   "name": "python",
   "version": "3.9.13"
  },
  "orig_nbformat": 4,
  "vscode": {
   "interpreter": {
    "hash": "255f0bb8e5d8fcfbbd1fa5d49e00cf8c674e2cac786af89e538a276d5b2c607a"
   }
  }
 },
 "nbformat": 4,
 "nbformat_minor": 2
}
