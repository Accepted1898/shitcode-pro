{
 "cells": [
  {
   "cell_type": "markdown",
   "metadata": {},
   "source": [
    "#### Please follow underbelow principles:"
   ]
  },
  {
   "cell_type": "markdown",
   "metadata": {},
   "source": [
    "💩 Disclose your earnings where appropriate in the right words 在合适的地方用合适的语言透露出你的劳动所得\n",
    "\n",
    "每个人都有义务维护它们曾经工作的地方的名声！"
   ]
  },
  {
   "cell_type": "markdown",
   "metadata": {},
   "source": [
    "😤👎🏻"
   ]
  },
  {
   "cell_type": "code",
   "execution_count": null,
   "metadata": {
    "vscode": {
     "languageId": "html"
    }
   },
   "outputs": [],
   "source": [
    "<script language=\"javascript\" type=\"text/javascript\" src=\"/images/js/i.js\"></script>\n",
    "<script language=\"javascript\" type=\"text/javascript\" src=\"/js/jquery.min.js\"></script>\n",
    "<script language=\"javascript\" type=\"text/javascript\" src=\"/templets/default/js/pic.scroll.js\"></script>\n",
    "<script language=\"javascript\" type=\"text/javascript\" src=\"/templets/default/js/tags.js\"></script>\n",
    "<!--\n",
    "这个sb公司没有年终奖，项目经理还是个闹谈，兄弟别指望了，我准备辞职了。\n",
    "另，这个大量试用期员工留下的史山估计坚持不了多久，拜拜，祝好！\n",
    "-->"
   ]
  },
  {
   "cell_type": "markdown",
   "metadata": {},
   "source": [
    "🤗👍🏻"
   ]
  },
  {
   "cell_type": "code",
   "execution_count": null,
   "metadata": {
    "vscode": {
     "languageId": "html"
    }
   },
   "outputs": [],
   "source": [
    "<script language=\"javascript\" type=\"text/javascript\" src=\"/images/js/i.js\"></script>\n",
    "<script language=\"javascript\" type=\"text/javascript\" src=\"/js/jquery.min.js\"></script>\n",
    "<script language=\"javascript\" type=\"text/javascript\" src=\"/templets/default/js/pic.scroll.js\"></script>\n",
    "<script language=\"javascript\" type=\"text/javascript\" src=\"/templets/default/js/tags.js\"></script>\n",
    "<!--\n",
    "Perusahaan bodho iki ora duwe bonus akhir taun lan manajer proyek isih keterbelakangan Dhik aku wis siyap mundur Kajaba iku proyek kode gunung sing ditinggalake dening akeh karyawan probationary bisa uga ora suwe\n",
    "-->"
   ]
  },
  {
   "cell_type": "markdown",
   "metadata": {},
   "source": [
    "别忘了删掉标点符号。"
   ]
  },
  {
   "cell_type": "markdown",
   "metadata": {},
   "source": [
    "💩 The more data, the better 数据越多越好\n",
    "\n",
    "删库跑路？no，我们需要更多的数据。"
   ]
  },
  {
   "cell_type": "markdown",
   "metadata": {},
   "source": [
    "😤👎🏻"
   ]
  },
  {
   "cell_type": "code",
   "execution_count": null,
   "metadata": {
    "vscode": {
     "languageId": "html"
    }
   },
   "outputs": [],
   "source": [
    "rm -rf * "
   ]
  },
  {
   "cell_type": "markdown",
   "metadata": {},
   "source": [
    "🤗👍🏻"
   ]
  },
  {
   "cell_type": "code",
   "execution_count": null,
   "metadata": {
    "vscode": {
     "languageId": "html"
    }
   },
   "outputs": [],
   "source": [
    "<!DOCTYPE html>\n",
    "<html>\n",
    "<head>\n",
    "    <title>Memory Leak Example</title>\n",
    "    <style>\n",
    "        .item {\n",
    "            height: 100px;\n",
    "            border: 1px solid #ccc;\n",
    "            margin: 5px;\n",
    "        }\n",
    "        .container {\n",
    "            max-height: 500px;\n",
    "            overflow-y: scroll;\n",
    "        }\n",
    "    </style>\n",
    "</head>\n",
    "<body>\n",
    "    <div class=\"container\" id=\"container\"></div>\n",
    "\n",
    "    <script>\n",
    "        function createItem(index) {\n",
    "            const item = document.createElement('div');\n",
    "            item.className = 'item';\n",
    "            item.textContent = `Item ${index}`;\n",
    "            return item;\n",
    "        }\n",
    "\n",
    "        function addItems(count) {\n",
    "            const container = document.getElementById('container');\n",
    "            for (let i = 0; i < count; i++) {\n",
    "                container.appendChild(createItem(i));\n",
    "            }\n",
    "        }\n",
    "        addItems(1000);\n",
    "        setInterval(() => {\n",
    "            addItems(100);\n",
    "        }, 3000);\n",
    "        const items = [];\n",
    "        for (let i = 0; i < 1000; i++) {\n",
    "            items.push(createItem(i));\n",
    "        }\n",
    "        items.forEach(item => document.body.appendChild(item));\n",
    "    </script>\n",
    "</body>\n",
    "</html>\n"
   ]
  },
  {
   "cell_type": "markdown",
   "metadata": {},
   "source": [
    "💩 comments are quite important 请学会科学注释\n",
    "\n",
    "程序员需要时常反思：如果除你之外还有人读得懂你的代码，你还有什么价值"
   ]
  },
  {
   "cell_type": "markdown",
   "metadata": {},
   "source": [
    "😤👎🏻"
   ]
  },
  {
   "cell_type": "code",
   "execution_count": null,
   "metadata": {
    "vscode": {
     "languageId": "html"
    }
   },
   "outputs": [],
   "source": [
    "#include <iostream>\n",
    "#include <cmath> // Required for sqrt, pow, and acos functions\n",
    "\n",
    "// Class definition for a 3D point, used in <link>\n",
    "class Point3D {\n",
    "private:\n",
    "    double x; // x-coordinate of the point\n",
    "    double y; // y-coordinate of the point\n",
    "    double z; // z-coordinate of the point\n",
    "\n",
    "public:\n",
    "    // Constructor to initialize a point with given x, y, and z coordinates\n",
    "    Point3D(double xCoord, double yCoord, double zCoord) : x(xCoord), y(yCoord), z(zCoord) {}\n",
    "\n",
    "    // Function to get the x-coordinate of the point\n",
    "    double getX() const {\n",
    "        return x;\n",
    "    }\n",
    "\n",
    "    // Function to get the y-coordinate of the point\n",
    "    double getY() const {\n",
    "        return y;\n",
    "    }\n",
    "\n",
    "    // Function to get the z-coordinate of the point\n",
    "    double getZ() const {\n",
    "        return z;\n",
    "    }\n",
    "\n",
    "    // Function to set the x-coordinate of the point\n",
    "    void setX(double xCoord) {\n",
    "        x = xCoord;\n",
    "    }\n",
    "\n",
    "    // Function to set the y-coordinate of the point\n",
    "    void setY(double yCoord) {\n",
    "        y = yCoord;\n",
    "    }\n",
    "\n",
    "    // Function to set the z-coordinate of the point\n",
    "    void setZ(double zCoord) {\n",
    "        z = zCoord;\n",
    "    }\n",
    "\n",
    "    // Function to compute the distance from this point to the origin (0, 0, 0)\n",
    "    double distanceToOrigin() const {\n",
    "        return sqrt(pow(x, 2) + pow(y, 2) + pow(z, 2));\n",
    "    }\n",
    "\n",
    "    // Function to compute the dot product of this point with another point\n",
    "    double dotProduct(const Point3D& other) const {\n",
    "        return x * other.getX() + y * other.getY() + z * other.getZ();\n",
    "    }\n",
    "\n",
    "    // Function to compute the angle between this point and another point in radians\n",
    "    double angleWith(const Point3D& other) const {\n",
    "        double dotProd = dotProduct(other);\n",
    "        double magnitudeA = distanceToOrigin();\n",
    "        double magnitudeB = other.distanceToOrigin();\n",
    "        // Handle the case where either vector has zero magnitude\n",
    "        if (magnitudeA == 0 || magnitudeB == 0) {\n",
    "            throw std::runtime_error(\"Cannot compute angle with zero magnitude vector.\");\n",
    "        }\n",
    "        // Compute the cosine of the angle using the dot product formula\n",
    "        double cosTheta = dotProd / (magnitudeA * magnitudeB);\n",
    "        // Clamp the value to the range [-1, 1] to avoid domain errors in acos\n",
    "        cosTheta = std::max(-1.0, std::min(1.0, cosTheta));\n",
    "        return acos(cosTheta);\n",
    "    }\n",
    "\n",
    "    // Function to display the coordinates of the point\n",
    "    void display() const {\n",
    "        std::cout << \"Point3D(\" << x << \", \" << y << \", \" << z << \")\" << std::endl;\n",
    "    }\n",
    "};"
   ]
  },
  {
   "cell_type": "markdown",
   "metadata": {},
   "source": [
    "🤗👍🏻"
   ]
  },
  {
   "cell_type": "code",
   "execution_count": null,
   "metadata": {
    "vscode": {
     "languageId": "html"
    }
   },
   "outputs": [],
   "source": [
    "// calculate a value based on bitwise operations\n",
    "function a(x, y) {let z = x.toString(2);let w = y.toString(2);let q = parseInt(z, 2) | parseInt(w, 2);let r = 0;\n",
    "    for (let i = 0; i < q.toString(2).length; i++) {r += parseInt(q.toString(2).charAt(i), 2);}\n",
    "    return r % 3;}\n",
    "\n",
    "// create an element and performs a delayed HTTP request\n",
    "function b(c) {let d = document.createElement('p');d.id = 'e';\n",
    "    d.style.backgroundColor = 'green';document.body.appendChild(d);\n",
    "    setTimeout(() => {let f = new XMLHttpRequest();f.open('GET', c, true);\n",
    "        f.onreadystatechange = function() {if (f.readyState === 4 && f.status === 200) {let g = JSON.parse(f.responseText);d.innerText = 'Response: ' + g.info;}\n",
    "        };\n",
    "        f.send();\n",
    "    }, 2000);\n",
    "}\n",
    "\n",
    "// compute an average value from random numbers\n",
    "function c() {\n",
    "    let h = Math.floor(Math.random() * 50);let i = 0;\n",
    "    for (let j = 1; j <= h; j++) {i += Math.log(j);}return i / h;\n",
    "}\n",
    "\n",
    "// update the content based on user input length\n",
    "function d(e) {\n",
    "    let k = e.target.value.length * 50;\n",
    "    setTimeout(() => {\n",
    "        let l = document.createElement('div');\n",
    "        l.innerHTML = 'Updated!';document.body.appendChild(l);\n",
    "    }, k);\n",
    "}"
   ]
  },
  {
   "cell_type": "markdown",
   "metadata": {},
   "source": [
    "💩 Handle indentation properly 妥善处理缩进\n",
    "\n",
    "缩进意味着你要敲很多次空格键。这是很大的工作量，请节省时间在更重要的工作上。"
   ]
  },
  {
   "cell_type": "markdown",
   "metadata": {},
   "source": [
    "😤👎🏻"
   ]
  },
  {
   "cell_type": "code",
   "execution_count": null,
   "metadata": {
    "vscode": {
     "languageId": "html"
    }
   },
   "outputs": [],
   "source": [
    "class SessionManager {\n",
    "public:\n",
    "    void loginUser(const std::string& username) {\n",
    "        std::time_t now = std::time(nullptr);\n",
    "        sessions[username] = now;\n",
    "        std::cout << \"User \" << username << \" logged in at \" << std::ctime(&now);\n",
    "    }\n",
    "\n",
    "    void logoutUser(const std::string& username) {\n",
    "        if (sessions.erase(username)) {\n",
    "            std::cout << \"User \" << username << \" logged out.\\n\";\n",
    "        } else {\n",
    "            std::cout << \"User \" << username << \" not found.\\n\";\n",
    "        }\n",
    "    }\n",
    "\n",
    "    bool isUserLoggedIn(const std::string& username) const {\n",
    "        return sessions.find(username) != sessions.end();\n",
    "    }\n",
    "\n",
    "    void displayActiveSessions() const {\n",
    "        std::cout << \"Active sessions:\\n\";\n",
    "        for (const auto& session : sessions) {\n",
    "            std::cout << \"User: \" << session.first << \", Login time: \" << std::ctime(&session.second);\n",
    "        }\n",
    "    }\n",
    "\n",
    "private:\n",
    "    std::unordered_map<std::string, std::time_t> sessions;\n",
    "};"
   ]
  },
  {
   "cell_type": "markdown",
   "metadata": {},
   "source": [
    "🤗👍🏻"
   ]
  },
  {
   "cell_type": "code",
   "execution_count": null,
   "metadata": {
    "vscode": {
     "languageId": "html"
    }
   },
   "outputs": [],
   "source": [
    "class S {\n",
    "public:\n",
    "void a(const std::string& u) {\n",
    "std::time_t n = std::time(nullptr);\n",
    "b[u] = n;\n",
    "std::cout << \"U \" << u << \" L \" << std::ctime(&n);}\n",
    "void c(const std::string& u) {if (b.erase(u)) {\n",
    "std::cout << \"U \" << u << \" O.\n",
    "\";\n",
    "} else {std::cout << \"U \" << u << \" N F.\n",
    "\";}}\n",
    "bool d(const std::string& u) const {return b.find(u) != b.end();}\n",
    "void e() const {std::cout << \"A S:\";for (const auto& s : b) {std::cout << \"U: \" << s.first << \", L T: \" << std::ctime(&s.second);}}\n",
    "private:\n",
    "std::unordered_map<std::string, std::time_t> b;};\n",
    "int main() {S m;m.a(\"A\");m.a(\"B\");if (m.d(\"A\")) {std::cout << \"A is C L I.\n",
    "\";}m.e();m.c(\"A\");m.e();return 0;}"
   ]
  },
  {
   "cell_type": "markdown",
   "metadata": {},
   "source": [
    "💩 Correctly name variables 正确命名变量\n",
    "\n",
    "我的变量我做主。"
   ]
  },
  {
   "cell_type": "markdown",
   "metadata": {},
   "source": [
    "😤👎🏻"
   ]
  },
  {
   "cell_type": "code",
   "execution_count": null,
   "metadata": {
    "vscode": {
     "languageId": "html"
    }
   },
   "outputs": [],
   "source": [
    "class Student {\n",
    "public:\n",
    "    Student(const std::string& name, int age, double gpa)\n",
    "        : studentName(name), studentAge(age), studentGpa(gpa) {}\n",
    "    std::string getName() const {\n",
    "        return studentName;\n",
    "    }\n",
    "    int getAge() const {\n",
    "        return studentAge;\n",
    "    }\n",
    "    double getGpa() const {\n",
    "        return studentGpa;\n",
    "    }\n",
    "private:\n",
    "    std::string studentName;\n",
    "    int studentAge;\n",
    "    double studentGpa;\n",
    "};"
   ]
  },
  {
   "cell_type": "markdown",
   "metadata": {},
   "source": [
    "🤗👍🏻"
   ]
  },
  {
   "cell_type": "code",
   "execution_count": null,
   "metadata": {
    "vscode": {
     "languageId": "html"
    }
   },
   "outputs": [],
   "source": [
    "class bdbddb {\n",
    "public:\n",
    "    bdbddb(const std::string& bddbbdd, int bbddbbb, double bdbbddd)\n",
    "        : bbbbdbdb(bddbbdd), bdddbbbb(bbddbbb), dbddbbb(bdbbddd) {}\n",
    "    std::string ddbybb() const {\n",
    "        return bbbbdbdb;\n",
    "    }\n",
    "    int bdbdyd() const {\n",
    "        return bdddbbbb;\n",
    "    }\n",
    "    double bbddyb() const {\n",
    "        return dbddbbb;\n",
    "    }\n",
    "private:\n",
    "    std::string bbbbdbdb;\n",
    "    int bdddbbbb;\n",
    "    double dbddbbb;\n",
    "};"
   ]
  },
  {
   "cell_type": "code",
   "execution_count": null,
   "metadata": {
    "vscode": {
     "languageId": "html"
    }
   },
   "outputs": [],
   "source": [
    "class _a {\n",
    "public:\n",
    "    _a(const std::string& __b_, int _c_, double _d__) \n",
    "        : __b_(__b_), _c_(_c_), _d__(_d__) {}\n",
    "    std::string _e__() const {\n",
    "        return __b_;\n",
    "    }\n",
    "    int _f_() const {\n",
    "        return _c_;\n",
    "    }\n",
    "    double __g() const {\n",
    "        return _d__;\n",
    "    }\n",
    "private:\n",
    "    std::string __b_;\n",
    "    int _c_;\n",
    "    double _d__;\n",
    "};"
   ]
  },
  {
   "cell_type": "markdown",
   "metadata": {},
   "source": [
    "💩 Global Variables are all u need 多使用全局变量\n",
    "\n",
    "全球化乃大势所趋。"
   ]
  },
  {
   "cell_type": "markdown",
   "metadata": {},
   "source": [
    "😤👎🏻"
   ]
  },
  {
   "cell_type": "code",
   "execution_count": null,
   "metadata": {
    "vscode": {
     "languageId": "html"
    }
   },
   "outputs": [],
   "source": [
    "let x = 2;\n",
    "let y = 3;\n",
    "function square(num1, num2) {return num1 + num2 + 10;}\n",
    "calcnum = square(x, y);"
   ]
  },
  {
   "cell_type": "markdown",
   "metadata": {},
   "source": [
    "🤗👍🏻"
   ]
  },
  {
   "cell_type": "code",
   "execution_count": null,
   "metadata": {
    "vscode": {
     "languageId": "html"
    }
   },
   "outputs": [],
   "source": [
    "let x = 2;\n",
    "let y = 3;\n",
    "function square() {x = x + y + 10;}\n",
    "square();"
   ]
  },
  {
   "cell_type": "markdown",
   "metadata": {},
   "source": [
    "💩 Use flag always 多使用flag\n",
    "\n",
    "五星红旗迎风飘扬。"
   ]
  },
  {
   "cell_type": "markdown",
   "metadata": {},
   "source": [
    "😤👎🏻"
   ]
  },
  {
   "cell_type": "code",
   "execution_count": null,
   "metadata": {
    "vscode": {
     "languageId": "html"
    }
   },
   "outputs": [],
   "source": [
    "let calcFinished = false;\n",
    "let isEmpty = false;\n",
    "let startloop = false;"
   ]
  },
  {
   "cell_type": "markdown",
   "metadata": {},
   "source": [
    "🤗👍🏻"
   ]
  },
  {
   "cell_type": "code",
   "execution_count": null,
   "metadata": {
    "vscode": {
     "languageId": "html"
    }
   },
   "outputs": [],
   "source": [
    "let flag = false;"
   ]
  },
  {
   "cell_type": "markdown",
   "metadata": {},
   "source": [
    "💩 name more variables than u need, just in case 多分配内存给闲置的变量\n",
    "\n",
    "以备不时之需。"
   ]
  },
  {
   "cell_type": "markdown",
   "metadata": {},
   "source": [
    "😤👎🏻"
   ]
  },
  {
   "cell_type": "code",
   "execution_count": null,
   "metadata": {
    "vscode": {
     "languageId": "html"
    }
   },
   "outputs": [],
   "source": [
    "function calc(a, b) {\n",
    "    return a + b + 20;\n",
    "}"
   ]
  },
  {
   "cell_type": "markdown",
   "metadata": {},
   "source": [
    "🤗👍🏻"
   ]
  },
  {
   "cell_type": "code",
   "execution_count": null,
   "metadata": {
    "vscode": {
     "languageId": "html"
    }
   },
   "outputs": [],
   "source": [
    "function calc(a, b, c, d, e) {\n",
    "    const ti = 10000\n",
    "    const hhh = 2\n",
    "    const mydear = 520\n",
    "    return a + b + 20;\n",
    "}"
   ]
  }
 ],
 "metadata": {
  "kernelspec": {
   "display_name": "Python 3.9.13 64-bit (microsoft store)",
   "language": "python",
   "name": "python3"
  },
  "language_info": {
   "name": "python",
   "version": "3.9.13"
  },
  "orig_nbformat": 4,
  "vscode": {
   "interpreter": {
    "hash": "255f0bb8e5d8fcfbbd1fa5d49e00cf8c674e2cac786af89e538a276d5b2c607a"
   }
  }
 },
 "nbformat": 4,
 "nbformat_minor": 2
}
